{
 "cells": [
  {
   "cell_type": "code",
   "execution_count": 2,
   "metadata": {},
   "outputs": [
    {
     "name": "stdout",
     "output_type": "stream",
     "text": [
      "Don't forget to pay bills\n",
      "Task remaining\n",
      "Buy groceries\n",
      "Pay bills\n",
      "Schedule meeting\n",
      "Go for a run\n"
     ]
    }
   ],
   "source": [
    "#To do list\n",
    "\n",
    "to_do_list = ['Buy groceries', 'Clean the house','Pay bills']\n",
    "\n",
    "#Adding list\n",
    "to_do_list.append('Schedule meeting')\n",
    "to_do_list.append('Go for a run')\n",
    "\n",
    "#Removing a completed task\n",
    "to_do_list.remove('Clean the house')\n",
    "\n",
    "#Checking if a task in completed\n",
    "if 'Pay bills' in to_do_list:\n",
    "    print(\"Don't forget to pay bills\")\n",
    "\n",
    "print('Task remaining')\n",
    "for task in to_do_list:\n",
    "    print(task)"
   ]
  },
  {
   "cell_type": "code",
   "execution_count": null,
   "metadata": {},
   "outputs": [],
   "source": []
  }
 ],
 "metadata": {
  "kernelspec": {
   "display_name": "venv",
   "language": "python",
   "name": "python3"
  },
  "language_info": {
   "codemirror_mode": {
    "name": "ipython",
    "version": 3
   },
   "file_extension": ".py",
   "mimetype": "text/x-python",
   "name": "python",
   "nbconvert_exporter": "python",
   "pygments_lexer": "ipython3",
   "version": "3.10.0"
  }
 },
 "nbformat": 4,
 "nbformat_minor": 2
}
