{
 "cells": [
  {
   "cell_type": "markdown",
   "metadata": {},
   "source": [
    "# Module: File Handling Assignments\n",
    "## Lesson: File Handling and Operations\n",
    "### Assignment 1: Reading a File\n",
    "\n",
    "Write a function that reads the contents of a file named `sample.txt` and prints each line.\n",
    "\n",
    "### Assignment 2: Writing to a File\n",
    "\n",
    "Write a function that writes a list of strings to a file named `output.txt`, with each string on a new line.\n",
    "\n",
    "### Assignment 3: Copying a File\n",
    "\n",
    "Write a function that copies the contents of a file named `source.txt` to a new file named `destination.txt`.\n",
    "\n",
    "### Assignment 4: Appending to a File\n",
    "\n",
    "Write a function that appends a given string to the end of a file named `log.txt`.\n",
    "\n",
    "### Assignment 5: Counting Words in a File\n",
    "\n",
    "Write a function that reads the contents of a file named `document.txt` and returns the number of words in the file.\n",
    "\n",
    "### Assignment 6: Finding and Replacing Text\n",
    "\n",
    "Write a function that finds and replaces all occurrences of a given word in a file named `data.txt` with another word.\n",
    "\n",
    "### Assignment 7: Reading a File in Reverse\n",
    "\n",
    "Write a function that reads the contents of a file named `reverse.txt` and prints each line in reverse order.\n",
    "\n",
    "### Assignment 8: Counting Lines, Words, and Characters\n",
    "\n",
    "Write a function that reads the contents of a file named `stats.txt` and returns the number of lines, words, and characters in the file.\n",
    "\n",
    "### Assignment 9: Merging Multiple Files\n",
    "\n",
    "Write a function that merges the contents of multiple files into a single file named `merged.txt`.\n",
    "\n",
    "### Assignment 10: Splitting a Large File\n",
    "\n",
    "Write a function that splits a large file named `large.txt` into smaller files of 100 lines each.\n",
    "\n",
    "### Assignment 11: Creating a Log File\n",
    "\n",
    "Write a function that creates a log file named `activity.log` and writes log messages with timestamps.\n",
    "\n",
    "### Assignment 12: Binary File Operations\n",
    "\n",
    "Write a function that reads a binary file named `image.bin` and writes its contents to another binary file named `copy_image.bin`.\n",
    "\n",
    "### Assignment 13: CSV File Operations\n",
    "\n",
    "Write a function that reads a CSV file named `data.csv` and prints its contents as a list of dictionaries.\n",
    "\n",
    "### Assignment 14: JSON File Operations\n",
    "\n",
    "Write a function that reads a JSON file named `data.json` and prints its contents as a Python dictionary.\n",
    "\n",
    "### Assignment 15: File Permission Handling\n",
    "\n",
    "Write a function that attempts to read a file named `protected.txt` and handles any permission errors gracefully by printing an error message."
   ]
  },
  {
   "cell_type": "code",
   "execution_count": 1,
   "metadata": {},
   "outputs": [
    {
     "name": "stdout",
     "output_type": "stream",
     "text": [
      "Mount Everest attracts many climbers, including highly experienced mountaineers. \n",
      "There are two main climbing routes, one approaching the summit from the southeast in Nepal (known as the \"standard route\") and the other from the north in Tibet. \n",
      "While not posing substantial technical climbing challenges on the standard route, Everest presents dangers such as altitude sickness, weather, and wind, as well as hazards from avalanches and the Khumbu Icefall. \n",
      "As of May 2024, 340 people have died on Everest. \n",
      "Over 200 bodies remain on the mountain and have not been removed due to the dangerous conditions.\n"
     ]
    }
   ],
   "source": [
    "with open('sample.txt', 'r') as src:\n",
    "    content = src.read()\n",
    "    print(content)\n"
   ]
  },
  {
   "cell_type": "code",
   "execution_count": 10,
   "id": "606dad7f",
   "metadata": {},
   "outputs": [],
   "source": [
    "with open('output.txt', 'a') as file:\n",
    "    #file.write('Hello world !')\n",
    "    file.writelines([\"Climbers typically ascend only part of Mount Everest's elevation, as the mountain's full elevation is measured from the geoid, which approximates sea level. The closest sea to Mount Everest's summit is the Bay of Bengal, almost 700 km (430 mi) away.\", \n",
    "                     \"\\nThe amount of elevation climbed from below these camps varies. On the Tibetan side\",\n",
    "                     \"\\nThe first recorded efforts to reach Everest's summit were made by British mountaineers\"])"
   ]
  },
  {
   "cell_type": "code",
   "execution_count": 13,
   "id": "7fed9a98",
   "metadata": {},
   "outputs": [
    {
     "name": "stdout",
     "output_type": "stream",
     "text": [
      "['advancefunctions.ipynb', 'advancefunctionsolution.ipynb', 'assignments.ipynb', 'assignment_question.ipynb', 'dictionaries_assignment.ipynb', 'example.txt', 'File.ipynb', 'filehandlingquestions.ipynb', 'filehandlingsolution.ipynb', 'function_notes.ipynb', 'list_Assignment.ipynb', 'output.txt', 'package1', 'real_world_examples.ipynb', 'sample.txt', 'sets_assignment.ipynb', 'tuple_assignment.ipynb']\n",
      "['advancefunctions.ipynb', 'advancefunctionsolution.ipynb', 'assignments.ipynb', 'assignment_question.ipynb', 'dictionaries_assignment.ipynb', 'example.txt', 'File.ipynb', 'filehandlingquestions.ipynb', 'filehandlingsolution.ipynb', 'function_notes.ipynb', 'list_Assignment.ipynb', 'output.txt', 'package1', 'real_world_examples.ipynb', 'sample.txt', 'sets_assignment.ipynb', 'tuple_assignment.ipynb']\n"
     ]
    }
   ],
   "source": [
    "import shutil\n",
    "import os\n",
    "src = 'example.txt'\n",
    "dest = 'output.txt'\n",
    "#Before copying\n",
    "l = os.listdir(os.getcwd())\n",
    "print(l)\n",
    "destination = shutil.copyfile(src,dest)\n",
    "l = os.listdir(os.getcwd())\n",
    "print(l)\n"
   ]
  },
  {
   "cell_type": "code",
   "execution_count": 17,
   "id": "d9837a78",
   "metadata": {},
   "outputs": [],
   "source": [
    "with open('log.txt', 'w') as src:\n",
    "    src.write('Hello world')\n",
    "with open('log.txt', 'a') as src:\n",
    "    src.write('\\nHello world2')\n"
   ]
  },
  {
   "cell_type": "code",
   "execution_count": null,
   "id": "db0a51d8",
   "metadata": {},
   "outputs": [],
   "source": [
    "def src_to_dest(file):\n",
    "    with open(file, 'r') as source:\n",
    "        content = source.read()\n",
    "        l = content.split(' ')\n",
    "        d = {}\n",
    "        for i in l:\n",
    "            if i in d.keys():\n",
    "                d[i] += 1\n",
    "            else:\n",
    "                d[i] = 1\n",
    "    return d\n",
    "def count_lines(file):\n",
    "    with open(file, 'r') as src:\n",
    "        content = src.read()\n",
    "    \n",
    "    l = content.split('\\n')\n",
    "    return len(l)\n",
    "\n",
    "\n",
    "def count_words_file(file, word):\n",
    "    re = src_to_dest(file)\n",
    "    for i in re.keys():\n",
    "        if i == word:\n",
    "            return re[i]\n",
    "    print('No word found')\n",
    "\n",
    "def count_letters_file(file,letter):\n",
    "    with open(file, 'r') as src:\n",
    "        content = src.read()\n",
    "        l = content.split(' ')\n",
    "        l1 = []\n",
    "        for i in l:\n",
    "            for j in i:\n",
    "                l1.append(j)\n",
    "    \n",
    "    d1 = {}\n",
    "    for i in l1:\n",
    "        if i in d1.keys():\n",
    "            d1[i] += 1\n",
    "        else:\n",
    "            d1[i] = 1\n",
    "    for i in d1.keys():\n",
    "        if i == letter:\n",
    "            return d1[i]\n",
    "    print('No letter found')"
   ]
  },
  {
   "cell_type": "code",
   "execution_count": 27,
   "id": "43aaa8df",
   "metadata": {},
   "outputs": [
    {
     "name": "stdout",
     "output_type": "stream",
     "text": [
      "Mount Everest attracts many climbers, including highly experienced mountaineers. \n",
      "There are two main climbing routes, one approaching Hi summit from Hi southeast in Nepal (known as Hi \"standard route\") and Hi other from Hi north in Tibet. \n",
      "While not posing substantial technical climbing challenges on Hi standard route, Everest presents dangers such as altitude sickness, weather, and wind, as well as hazards from avalanches and Hi Khumbu Icefall. \n",
      "As of May 2024, 340 people have died on Everest. \n",
      "Over 200 bodies remain on Hi mountain and have not been removed due to Hi dangerous conditions.\n"
     ]
    }
   ],
   "source": [
    "def replace_words(file, word, replace_word):\n",
    "    with open(file, 'r') as src:\n",
    "        content = src.read()\n",
    "    \n",
    "    l = content.split(' ')\n",
    "    for i in range(len(l)):\n",
    "        if l[i] == word:\n",
    "            l[i] = replace_word\n",
    "        else:\n",
    "            continue\n",
    "    #print('No word found to replace')\n",
    "    content = ' '.join(l)\n",
    "    print(content)\n",
    "\n",
    "    with open(file, 'w') as src:\n",
    "        src.write(content)\n",
    "    \n",
    "    src.close()\n",
    "\n",
    "\n",
    "replace_words('sample.txt', 'the', 'Hi')"
   ]
  },
  {
   "cell_type": "code",
   "execution_count": 1,
   "id": "0fb3b7ec",
   "metadata": {},
   "outputs": [
    {
     "name": "stdout",
     "output_type": "stream",
     "text": [
      "Hello world2\n",
      "Hello world\n"
     ]
    }
   ],
   "source": [
    "def reverse_read(file):\n",
    "    with open(file, 'r') as file:\n",
    "        lines = file.readlines()\n",
    "    for line in reversed(lines):\n",
    "        print(line.strip())\n",
    "\n",
    "reverse_read('log.txt')\n"
   ]
  },
  {
   "cell_type": "code",
   "execution_count": 1,
   "id": "8c2db8e1",
   "metadata": {},
   "outputs": [
    {
     "name": "stdout",
     "output_type": "stream",
     "text": [
      "9\n"
     ]
    }
   ],
   "source": [
    "def max_consecutive_difference(lst):\n",
    "    # Your code goes here\n",
    "    max_diff = 0\n",
    "    for i in range(len(lst)):\n",
    "        for j in range(i,len(lst)):\n",
    "            diff = abs(lst[i]-lst[j])\n",
    "            if diff > max_diff:\n",
    "                max_diff = diff\n",
    "    return max_diff\n",
    "\n",
    "lst = [1,7,3,10,5]\n",
    "d = max_consecutive_difference(lst)\n",
    "print(d)"
   ]
  },
  {
   "cell_type": "code",
   "execution_count": 4,
   "id": "fc33b560",
   "metadata": {},
   "outputs": [
    {
     "name": "stdout",
     "output_type": "stream",
     "text": [
      "[1, 2, 3, 4, 4, 5, 6, 7, 7, 8, 9, 10, 12, 23]\n"
     ]
    }
   ],
   "source": [
    "l1 = [2,3,4,7,8,9,1]\n",
    "l1.sort()\n",
    "l2 = [10,23,4,5,6,7,12]\n",
    "\n",
    "l = l1 + l2\n",
    "l.sort()\n",
    "print(l)"
   ]
  },
  {
   "cell_type": "code",
   "execution_count": null,
   "id": "8db27b7c",
   "metadata": {},
   "outputs": [],
   "source": [
    "'''def merge_two_sorted_lists(list1, list2):\n",
    "    # Your code goes here\n",
    "    sorted_list = list1 + list2\n",
    "    sorted_list.sort()\n",
    "    return sorted_list'''\n",
    "    \n",
    "def merge_two_sorted_lists(list1, list2):\n",
    "    l = []\n",
    "    i, j = 0, 0\n",
    "    while i < len(list1) and j < len(list2):\n",
    "        if list1[i] < list2[j]:\n",
    "            l.append(list1[i])\n",
    "            i += 1\n",
    "        else:\n",
    "            l.append(list2[j])\n",
    "            j += 1\n",
    "    while i < len(list1):\n",
    "        l.append(list1[i])\n",
    "        i += 1\n",
    "    while j < len(list2):\n",
    "        l.append(list2[j])\n",
    "        j += 1\n",
    "    return l\n"
   ]
  },
  {
   "cell_type": "code",
   "execution_count": 7,
   "id": "583118ed",
   "metadata": {},
   "outputs": [
    {
     "name": "stdout",
     "output_type": "stream",
     "text": [
      "[60, 70, 80, 90, 100, 10, 20, 30, 40, 50]\n"
     ]
    }
   ],
   "source": [
    "def rotate_list(lst, k):\n",
    "    # Your code goes here\n",
    "    l = []\n",
    "    for i in range(len(lst)-k,len(lst)):\n",
    "        l.append(lst[i])\n",
    "    for j in range(len(lst)-k):\n",
    "        l.append(lst[j])\n",
    "    return l\n",
    "\n",
    "lst = [10, 20, 30, 40, 50,60,70,80,90,100]\n",
    "print(rotate_list(lst,5))"
   ]
  },
  {
   "cell_type": "code",
   "execution_count": 13,
   "id": "03d3961b",
   "metadata": {},
   "outputs": [
    {
     "name": "stdout",
     "output_type": "stream",
     "text": [
      "{'a': 1, 'b': 2, 'c': 3}\n"
     ]
    }
   ],
   "source": [
    "def merge_lists_to_dictionary(keys, values):\n",
    "    # Your code goes here\n",
    "    if len(keys) != len(values):\n",
    "        return False\n",
    "        \n",
    "    d = {}\n",
    "    for i in range(len(keys)):\n",
    "        for j in range(i,len(values)):\n",
    "            d[keys[i]] = values[j]\n",
    "            break\n",
    "    return d\n",
    "\n",
    "keys = ['a','b','c']\n",
    "values = [1,2,3]\n",
    "re = merge_lists_to_dictionary(keys, values)\n",
    "print(re)"
   ]
  },
  {
   "cell_type": "code",
   "execution_count": 17,
   "id": "7e713a45",
   "metadata": {},
   "outputs": [
    {
     "name": "stdout",
     "output_type": "stream",
     "text": [
      "{'a': 1, 'b': 2}\n"
     ]
    }
   ],
   "source": [
    "d1 = {'a': 1, 'b': 2}\n",
    "d2 = {'c': 3, 'd': 4}\n",
    "d3 ={'e': 5, 'f': 6}\n",
    "d = {}\n",
    "for i in d1.keys():\n",
    "    d[i] = d1[i]\n",
    "\n",
    "print(d)"
   ]
  },
  {
   "cell_type": "code",
   "execution_count": 18,
   "id": "b3b927b3",
   "metadata": {},
   "outputs": [
    {
     "name": "stdout",
     "output_type": "stream",
     "text": [
      "(4, 3, 2, 1)\n"
     ]
    }
   ],
   "source": [
    "t = (1,2,3,4)\n",
    "print(t[-1::-1])"
   ]
  }
 ],
 "metadata": {
  "kernelspec": {
   "display_name": "venv",
   "language": "python",
   "name": "python3"
  },
  "language_info": {
   "codemirror_mode": {
    "name": "ipython",
    "version": 3
   },
   "file_extension": ".py",
   "mimetype": "text/x-python",
   "name": "python",
   "nbconvert_exporter": "python",
   "pygments_lexer": "ipython3",
   "version": "3.10.0"
  }
 },
 "nbformat": 4,
 "nbformat_minor": 5
}
