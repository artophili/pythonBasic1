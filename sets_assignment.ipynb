{
 "cells": [
  {
   "cell_type": "markdown",
   "metadata": {},
   "source": [
    "# Module 3: Data Structures Assignments\n",
    "## Lesson 3.3: Sets\n",
    "### Assignment 1: Creating and Accessing Sets\n",
    "\n",
    "Create a set with the first 10 positive integers. Print the set.\n",
    "\n",
    "### Assignment 2: Adding and Removing Elements\n",
    "\n",
    "Add the number 11 to the set created in Assignment 1. Then remove the number 1 from the set. Print the modified set.\n",
    "\n",
    "### Assignment 3: Set Operations\n",
    "\n",
    "Create two sets: one with the first 5 positive integers and another with the first 5 even integers. Perform and print the results of union, intersection, difference, and symmetric difference operations on these sets.\n",
    "\n",
    "### Assignment 4: Set Comprehensions\n",
    "\n",
    "Create a new set containing the squares of the first 10 positive integers using a set comprehension. Print the new set.\n",
    "\n",
    "### Assignment 5: Filtering Sets\n",
    "\n",
    "Create a new set containing only the even numbers from the set created in Assignment 1 using a set comprehension. Print the new set.\n",
    "\n",
    "### Assignment 6: Set Methods\n",
    "\n",
    "Create a set with duplicate elements and remove the duplicates using set methods. Print the modified set.\n",
    "\n",
    "### Assignment 7: Subsets and Supersets\n",
    "\n",
    "Create two sets: one with the first 5 positive integers and another with the first 3 positive integers. Check if the second set is a subset of the first set and if the first set is a superset of the second set. Print the results.\n",
    "\n",
    "### Assignment 8: Frozenset\n",
    "\n",
    "Create a frozenset with the first 5 positive integers. Print the frozenset.\n",
    "\n",
    "### Assignment 9: Set and List Conversion\n",
    "\n",
    "Create a set with the first 5 positive integers. Convert it to a list, append the number 6, and convert it back to a set. Print the resulting set.\n",
    "\n",
    "### Assignment 10: Set and Dictionary\n",
    "\n",
    "Create a dictionary with set keys and integer values. Print the dictionary.\n",
    "\n",
    "### Assignment 11: Iterating Over Sets\n",
    "\n",
    "Create a set and iterate over the elements, printing each element.\n",
    "\n",
    "### Assignment 12: Removing Elements from Sets\n",
    "\n",
    "Create a set and remove elements from it until it is empty. Print the set after each removal.\n",
    "\n",
    "### Assignment 13: Set Symmetric Difference Update\n",
    "\n",
    "Create two sets and update the first set with the symmetric difference of the two sets. Print the modified first set.\n",
    "\n",
    "### Assignment 14: Set Membership Testing\n",
    "\n",
    "Create a set and test if certain elements are present in the set. Print the results.\n",
    "\n",
    "### Assignment 15: Set of Tuples\n",
    "\n",
    "Create a set containing tuples, where each tuple contains two elements. Print the set."
   ]
  },
  {
   "cell_type": "code",
   "execution_count": 1,
   "metadata": {},
   "outputs": [
    {
     "name": "stdout",
     "output_type": "stream",
     "text": [
      "{1, 2, 3, 4, 5, 6, 7, 8, 9, 10}\n"
     ]
    }
   ],
   "source": [
    "set1 = set(range(1,11))\n",
    "print(set1)"
   ]
  },
  {
   "cell_type": "code",
   "execution_count": 2,
   "id": "99f4414c",
   "metadata": {},
   "outputs": [],
   "source": [
    "set1.add(11)\n",
    "set1.remove(2)"
   ]
  },
  {
   "cell_type": "code",
   "execution_count": 4,
   "id": "4d0ad9e4",
   "metadata": {},
   "outputs": [
    {
     "name": "stdout",
     "output_type": "stream",
     "text": [
      "{0, 1, 2, 3, 4, 5}\n",
      "{0, 2, 4}\n",
      "{0, 1, 2, 3, 4, 5}\n",
      "{0, 2, 4}\n",
      "{1, 3, 5}\n",
      "{1, 3, 5}\n"
     ]
    }
   ],
   "source": [
    "set1 = set(range(6))\n",
    "set2 = set(range(0,6,2))\n",
    "\n",
    "print(set1)\n",
    "print(set2)\n",
    "\n",
    "union_set = set1.union(set2)\n",
    "intersect_set = set1.intersection(set2)\n",
    "difference_set = set1.difference(set2)\n",
    "symmetric_set = set1.symmetric_difference(set2)\n",
    "\n",
    "print(union_set)\n",
    "print(intersect_set)\n",
    "print(difference_set)\n",
    "print(symmetric_set)"
   ]
  },
  {
   "cell_type": "code",
   "execution_count": 5,
   "id": "c15adb1a",
   "metadata": {},
   "outputs": [
    {
     "name": "stdout",
     "output_type": "stream",
     "text": [
      "{0, 1, 64, 4, 36, 100, 9, 16, 49, 81, 25}\n"
     ]
    }
   ],
   "source": [
    "sq_set = {x**2 for x in range(11)}\n",
    "print(sq_set)"
   ]
  },
  {
   "cell_type": "code",
   "execution_count": 6,
   "id": "104c944d",
   "metadata": {},
   "outputs": [
    {
     "name": "stdout",
     "output_type": "stream",
     "text": [
      "{2, 4, 6, 8, 10}\n"
     ]
    }
   ],
   "source": [
    "set1 = {1, 2, 3, 4, 5, 6, 7, 8, 9, 10}\n",
    "\n",
    "s = {x for x in set1 if x%2 == 0}\n",
    "print(s)"
   ]
  },
  {
   "cell_type": "code",
   "execution_count": 7,
   "id": "17994a7e",
   "metadata": {},
   "outputs": [
    {
     "name": "stdout",
     "output_type": "stream",
     "text": [
      "{1, 2, 3, 4, 5, 6, 7, 8, 9}\n"
     ]
    }
   ],
   "source": [
    "set1 = {1,1,2,3,4,4,4,5,6,7,7,8,9}\n",
    "unique_set = set(set1)\n",
    "print(unique_set)"
   ]
  },
  {
   "cell_type": "code",
   "execution_count": 11,
   "id": "b3d011ea",
   "metadata": {},
   "outputs": [
    {
     "data": {
      "text/plain": [
       "False"
      ]
     },
     "execution_count": 11,
     "metadata": {},
     "output_type": "execute_result"
    }
   ],
   "source": [
    "s1 = {1,2,3,4,5}\n",
    "s2 = {1,2,3}\n",
    "\n",
    "s1.issubset(s2)\n",
    "s2.issubset(s1)\n",
    "\n",
    "s1.issuperset(s2)\n",
    "s2.issuperset(s1)"
   ]
  },
  {
   "cell_type": "code",
   "execution_count": 12,
   "id": "bb46e596",
   "metadata": {},
   "outputs": [
    {
     "name": "stdout",
     "output_type": "stream",
     "text": [
      "frozenset({1, 2, 3, 4, 5})\n"
     ]
    }
   ],
   "source": [
    "frozenset_s1 = frozenset(s1)\n",
    "print(frozenset_s1)"
   ]
  },
  {
   "cell_type": "code",
   "execution_count": 15,
   "id": "efd7700c",
   "metadata": {},
   "outputs": [
    {
     "name": "stdout",
     "output_type": "stream",
     "text": [
      "{1, 2, 3, 4, 5}\n",
      "[1, 2, 3, 4, 5, 6]\n",
      "{1, 2, 3, 4, 5, 6}\n"
     ]
    }
   ],
   "source": [
    "print(s1)\n",
    "\n",
    "lt = list(s1)\n",
    "lt.append(6)\n",
    "print(lt)\n",
    "\n",
    "s1 = set(lt)\n",
    "print(s1)"
   ]
  },
  {
   "cell_type": "code",
   "execution_count": 17,
   "id": "5b59ac10",
   "metadata": {},
   "outputs": [
    {
     "name": "stdout",
     "output_type": "stream",
     "text": [
      "{1: {3}, 2: {4}, 3: {5}}\n"
     ]
    }
   ],
   "source": [
    "d = {\n",
    "    1 : {3},\n",
    "    2 : {4},\n",
    "    3 : {5}\n",
    "}\n",
    "\n",
    "print(d)"
   ]
  },
  {
   "cell_type": "code",
   "execution_count": 18,
   "id": "191d7ca5",
   "metadata": {},
   "outputs": [
    {
     "name": "stdout",
     "output_type": "stream",
     "text": [
      "1\n",
      "2\n",
      "3\n",
      "4\n",
      "5\n",
      "6\n",
      "7\n",
      "8\n",
      "9\n"
     ]
    }
   ],
   "source": [
    "for i in set1:\n",
    "    print(i)"
   ]
  },
  {
   "cell_type": "code",
   "execution_count": 24,
   "id": "de26a5a0",
   "metadata": {},
   "outputs": [
    {
     "name": "stdout",
     "output_type": "stream",
     "text": [
      "{2, 3, 4, 5, 6, 7, 8, 9}\n",
      "{3, 4, 5, 6, 7, 8, 9}\n",
      "{4, 5, 6, 7, 8, 9}\n",
      "{5, 6, 7, 8, 9}\n",
      "{6, 7, 8, 9}\n",
      "{7, 8, 9}\n",
      "{8, 9}\n",
      "{9}\n",
      "set()\n"
     ]
    }
   ],
   "source": [
    "s = {1,2,3,4,5,6,7,8,9}\n",
    "\n",
    "while s:\n",
    "    s.pop()\n",
    "    print(s)\n"
   ]
  },
  {
   "cell_type": "code",
   "execution_count": 25,
   "id": "4d4d47a1",
   "metadata": {},
   "outputs": [
    {
     "name": "stdout",
     "output_type": "stream",
     "text": [
      "{4, 5}\n"
     ]
    }
   ],
   "source": [
    "s1 = {1,2,3,4,5}\n",
    "s2 = {1,2,3}\n",
    "\n",
    "s1.symmetric_difference_update(s2)\n",
    "\n",
    "print(s1)"
   ]
  },
  {
   "cell_type": "code",
   "execution_count": 28,
   "id": "ec1e3e9e",
   "metadata": {},
   "outputs": [
    {
     "name": "stdout",
     "output_type": "stream",
     "text": [
      "1 is in set set1\n",
      "2 is in set set1\n",
      "3 is in set set1\n",
      "4 is in set set1\n",
      "5 is in set set1\n",
      "6 is not in set set1\n",
      "7 is not in set set1\n"
     ]
    }
   ],
   "source": [
    "set1 = {1,2,3,4,5}\n",
    "for i in range(1,8):\n",
    "    if i in set1:\n",
    "        print(i, 'is in set set1')\n",
    "    else:\n",
    "        print(i, 'is not in set set1')\n"
   ]
  },
  {
   "cell_type": "code",
   "execution_count": 29,
   "id": "2d609d68",
   "metadata": {},
   "outputs": [
    {
     "name": "stdout",
     "output_type": "stream",
     "text": [
      "{(1, 2), (3, 4), (7, 8), (5, 6)}\n"
     ]
    }
   ],
   "source": [
    "set1 = {(1,2),(3,4),(5,6),(7,8)}\n",
    "print(set1)"
   ]
  },
  {
   "cell_type": "code",
   "execution_count": 6,
   "id": "f8d28187",
   "metadata": {},
   "outputs": [
    {
     "name": "stdout",
     "output_type": "stream",
     "text": [
      "[6, 5, 4, 3, 2, 1]\n"
     ]
    }
   ],
   "source": [
    "l = [1,2,3,4,5,6]\n",
    "l1 = []\n",
    "for i in range(len(l),0,-1):\n",
    "    l1.append(i)\n",
    "print(l1)"
   ]
  },
  {
   "cell_type": "code",
   "execution_count": 16,
   "id": "3c469f27",
   "metadata": {},
   "outputs": [],
   "source": [
    "def is_subset(lst1, lst2):\n",
    "    # Your code goes here\n",
    "    is_subset = False\n",
    "    if len(lst1) > len(lst2):\n",
    "        for i in lst2:\n",
    "            lst1.append(i)\n",
    "            if lst1.count(i) == 2:\n",
    "                #print(lst1.count(i))\n",
    "                is_subset = True\n",
    "            else:\n",
    "                continue\n",
    "    else:\n",
    "        for i in lst1:\n",
    "            lst2.append(i)\n",
    "            if lst2.count(i) == 2:\n",
    "                is_subset = True\n",
    "            else:\n",
    "                continue\n",
    "\n",
    "    if is_subset:\n",
    "        return True\n",
    "    else:\n",
    "        return False    "
   ]
  },
  {
   "cell_type": "code",
   "execution_count": 19,
   "id": "c15260cf",
   "metadata": {},
   "outputs": [
    {
     "data": {
      "text/plain": [
       "False"
      ]
     },
     "execution_count": 19,
     "metadata": {},
     "output_type": "execute_result"
    }
   ],
   "source": [
    "ls1 = [7,8,9]\n",
    "lst2 = [1,2,3,4,5]\n",
    "is_subset(ls1, lst2)"
   ]
  }
 ],
 "metadata": {
  "kernelspec": {
   "display_name": "venv",
   "language": "python",
   "name": "python3"
  },
  "language_info": {
   "codemirror_mode": {
    "name": "ipython",
    "version": 3
   },
   "file_extension": ".py",
   "mimetype": "text/x-python",
   "name": "python",
   "nbconvert_exporter": "python",
   "pygments_lexer": "ipython3",
   "version": "3.10.0"
  }
 },
 "nbformat": 4,
 "nbformat_minor": 5
}
