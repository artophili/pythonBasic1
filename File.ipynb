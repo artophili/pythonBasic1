{
 "cells": [
  {
   "cell_type": "code",
   "execution_count": 24,
   "metadata": {},
   "outputs": [
    {
     "name": "stdout",
     "output_type": "stream",
     "text": [
      "5\n"
     ]
    }
   ],
   "source": [
    "def src_to_dest(file):\n",
    "    with open(file, 'r') as source:\n",
    "        content = source.read()\n",
    "        l = content.split(' ')\n",
    "        d = {}\n",
    "        for i in l:\n",
    "            if i in d.keys():\n",
    "                d[i] += 1\n",
    "            else:\n",
    "                d[i] = 1\n",
    "    return d\n",
    "def count_lines(file):\n",
    "    with open(file, 'r') as src:\n",
    "        content = src.read()\n",
    "    \n",
    "    l = content.split('\\n')\n",
    "    return len(l)\n",
    "\n",
    "\n",
    "def count_words_file(file, word):\n",
    "    re = src_to_dest(file)\n",
    "    for i in re.keys():\n",
    "        if i == word:\n",
    "            return re[i]\n",
    "    print('No word found')\n",
    "\n",
    "def count_letters_file(file,letter):\n",
    "    with open(file, 'r') as src:\n",
    "        content = src.read()\n",
    "        l = content.split(' ')\n",
    "        l1 = []\n",
    "        for i in l:\n",
    "            for j in i:\n",
    "                l1.append(j)\n",
    "    \n",
    "    d1 = {}\n",
    "    for i in l1:\n",
    "        if i in d1.keys():\n",
    "            d1[i] += 1\n",
    "        else:\n",
    "            d1[i] = 1\n",
    "    for i in d1.keys():\n",
    "        if i == letter:\n",
    "            return d1[i]\n",
    "    print('No letter found')\n",
    "\n",
    "src_to_dest('example.txt')\n",
    "#word = input('Enter a word to search')\n",
    "#count_words_file('example.txt', word)\n",
    "#letter = input('Enter a letter to find the count')\n",
    "#count_letters_file('example.txt','m')\n",
    "\n",
    "lines = count_lines('example.txt')\n",
    "print(lines)\n"
   ]
  },
  {
   "cell_type": "code",
   "execution_count": 9,
   "metadata": {},
   "outputs": [
    {
     "name": "stdout",
     "output_type": "stream",
     "text": [
      "[1, 2, 3, 4, 5, 6]\n"
     ]
    }
   ],
   "source": [
    "l1 = [1,2,3]\n",
    "l2 = [4,5,6]\n",
    "print(l1 + l2)"
   ]
  },
  {
   "cell_type": "code",
   "execution_count": 15,
   "metadata": {},
   "outputs": [
    {
     "name": "stdout",
     "output_type": "stream",
     "text": [
      "akshay\n"
     ]
    }
   ],
   "source": [
    "s = 'akshay'\n",
    "l = s.split()\n",
    "print(s)"
   ]
  },
  {
   "cell_type": "code",
   "execution_count": 25,
   "metadata": {},
   "outputs": [
    {
     "name": "stdout",
     "output_type": "stream",
     "text": [
      "Directory 'package1' Created\n"
     ]
    }
   ],
   "source": [
    "#Creating new directory\n",
    "\n",
    "import os\n",
    "\n",
    "new_dir = 'package1'\n",
    "os.mkdir(new_dir)\n",
    "print(f\"Directory '{new_dir}' Created\")"
   ]
  },
  {
   "cell_type": "code",
   "execution_count": 26,
   "metadata": {},
   "outputs": [
    {
     "name": "stdout",
     "output_type": "stream",
     "text": [
      "['advancefunctions.ipynb', 'advancefunctionsolution.ipynb', 'assignments.ipynb', 'assignment_question.ipynb', 'dictionaries_assignment.ipynb', 'example.txt', 'File.ipynb', 'function_notes.ipynb', 'list_Assignment.ipynb', 'package1', 'real_world_examples.ipynb', 'sets_assignment.ipynb', 'tuple_assignment.ipynb']\n"
     ]
    }
   ],
   "source": [
    "#Listing all the directories\n",
    "\n",
    "items = os.listdir('.')\n",
    "print(items)"
   ]
  },
  {
   "cell_type": "code",
   "execution_count": 27,
   "metadata": {},
   "outputs": [
    {
     "name": "stdout",
     "output_type": "stream",
     "text": [
      "1-python basics\\File.ipynb\n"
     ]
    }
   ],
   "source": [
    "#Joining paths\n",
    "\n",
    "dir_name = '1-python basics'\n",
    "file_name = 'File.ipynb'\n",
    "\n",
    "full_path = os.path.join(dir_name,file_name)\n",
    "print(full_path)"
   ]
  },
  {
   "cell_type": "code",
   "execution_count": 28,
   "metadata": {},
   "outputs": [
    {
     "name": "stdout",
     "output_type": "stream",
     "text": [
      "c:\\Users\\Artophilic\\Datascience Bootcamp\\Python\\1-python basics\\1-python basics\\File.ipynb\n"
     ]
    }
   ],
   "source": [
    "full_path = os.path.join(os.getcwd(),dir_name,file_name)\n",
    "print(full_path)"
   ]
  },
  {
   "cell_type": "code",
   "execution_count": null,
   "metadata": {},
   "outputs": [],
   "source": []
  }
 ],
 "metadata": {
  "kernelspec": {
   "display_name": "venv",
   "language": "python",
   "name": "python3"
  },
  "language_info": {
   "codemirror_mode": {
    "name": "ipython",
    "version": 3
   },
   "file_extension": ".py",
   "mimetype": "text/x-python",
   "name": "python",
   "nbconvert_exporter": "python",
   "pygments_lexer": "ipython3",
   "version": "3.10.0"
  }
 },
 "nbformat": 4,
 "nbformat_minor": 2
}
