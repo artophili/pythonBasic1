{
 "cells": [
  {
   "cell_type": "markdown",
   "metadata": {},
   "source": [
    "# Module 2: Control Flow Assignments\n",
    "## Lesson 2.1: Conditional Statements\n",
    "### Assignment 1: Simple if Statement\n",
    "\n",
    "Write a program that asks the user to input a number and prints whether the number is positive.\n",
    "\n",
    "### Assignment 2: if-else Statement\n",
    "\n",
    "Write a program that asks the user to input a number and prints whether the number is positive or negative.\n",
    "\n",
    "### Assignment 3: if-elif-else Statement\n",
    "\n",
    "Write a program that asks the user to input a number and prints whether the number is positive, negative, or zero.\n",
    "\n",
    "### Assignment 4: Nested if Statement\n",
    "\n",
    "Write a program that asks the user to input a number and prints whether the number is positive and even, positive and odd, or negative.\n",
    "\n",
    "## Lesson 2.2: Loops\n",
    "### Assignment 5: for Loop\n",
    "\n",
    "Write a program that prints all the numbers from 1 to 10 using a for loop.\n",
    "\n",
    "### Assignment 6: while Loop\n",
    "\n",
    "Write a program that prints all the numbers from 1 to 10 using a while loop.\n",
    "\n",
    "### Assignment 7: Nested Loops\n",
    "\n",
    "Write a program that prints a 5x5 grid of asterisks (*) using nested loops.\n",
    "\n",
    "### Assignment 8: break Statement\n",
    "\n",
    "Write a program that asks the user to input numbers until they input 0. The program should print the sum of all the input numbers.\n",
    "\n",
    "### Assignment 9: continue Statement\n",
    "\n",
    "Write a program that prints all the numbers from 1 to 10 except 5 using a for loop and continue statement.\n",
    "\n",
    "### Assignment 10: pass Statement\n",
    "\n",
    "Write a program that defines an empty function using the pass statement.\n",
    "\n",
    "### Assignment 11: Combining Loops and Conditionals\n",
    "\n",
    "Write a program that asks the user to input a number and prints all the even numbers from 1 to that number using a for loop.\n",
    "\n",
    "### Assignment 12: Factorial Calculation\n",
    "\n",
    "Write a program that calculates the factorial of a number input by the user using a while loop.\n",
    "\n",
    "### Assignment 13: Sum of Digits\n",
    "\n",
    "Write a program that calculates the sum of the digits of a number input by the user using a while loop.\n",
    "\n",
    "### Assignment 14: Prime Number Check\n",
    "\n",
    "Write a program that checks if a number input by the user is a prime number using a for loop.\n",
    "\n",
    "### Assignment 15: Fibonacci Sequence\n",
    "\n",
    "Write a program that prints the first n Fibonacci numbers, where n is input by the user."
   ]
  },
  {
   "cell_type": "code",
   "execution_count": 3,
   "metadata": {},
   "outputs": [
    {
     "name": "stdout",
     "output_type": "stream",
     "text": [
      "-1 is negative\n"
     ]
    }
   ],
   "source": [
    "#1\n",
    "\n",
    "n = int(input('Enter a number'))\n",
    "\n",
    "if n > 0:\n",
    "    print(n, 'is positive')\n",
    "elif n < 0:\n",
    "    print(n, 'is negative')\n",
    "else:\n",
    "    print('Number is 0')"
   ]
  },
  {
   "cell_type": "code",
   "execution_count": 6,
   "id": "a765180a",
   "metadata": {},
   "outputs": [
    {
     "name": "stdout",
     "output_type": "stream",
     "text": [
      "-12 is negative and -12 is a even number\n"
     ]
    }
   ],
   "source": [
    "n1 = int(input('Enter a number'))\n",
    "\n",
    "if n1 > 0 and n1 % 2 == 0:\n",
    "    print(n1, 'is positive and', n1,'is a even number')\n",
    "elif n1 < 0 and n1 % 2 == 0:\n",
    "    print(n1, 'is negative and', n1,'is a even number')\n",
    "elif n1 > 0 and n1 % 2 != 0:\n",
    "    print(n1, 'is positive and', n1,'is a odd number')\n",
    "elif n1 < 0 and n1 % 2 != 0:\n",
    "    print(n1, 'is negative and', n1,'is a odd number')"
   ]
  },
  {
   "cell_type": "code",
   "execution_count": 7,
   "id": "4629db1e",
   "metadata": {},
   "outputs": [
    {
     "name": "stdout",
     "output_type": "stream",
     "text": [
      "1\n",
      "2\n",
      "3\n",
      "4\n",
      "5\n",
      "6\n",
      "7\n",
      "8\n",
      "9\n",
      "10\n"
     ]
    }
   ],
   "source": [
    "for i in range(1,11):\n",
    "    print(i)"
   ]
  },
  {
   "cell_type": "code",
   "execution_count": 8,
   "id": "810f5cc8",
   "metadata": {},
   "outputs": [
    {
     "name": "stdout",
     "output_type": "stream",
     "text": [
      "0\n",
      "1\n",
      "2\n",
      "3\n",
      "4\n",
      "5\n",
      "6\n",
      "7\n",
      "8\n",
      "9\n",
      "10\n"
     ]
    }
   ],
   "source": [
    "i = 0\n",
    "n = 10\n",
    "while i <= n:\n",
    "    print(i)\n",
    "    i += 1"
   ]
  },
  {
   "cell_type": "code",
   "execution_count": 13,
   "id": "c0775472",
   "metadata": {},
   "outputs": [
    {
     "name": "stdout",
     "output_type": "stream",
     "text": [
      "*****\n",
      "*****\n",
      "*****\n",
      "*****\n",
      "*****\n"
     ]
    }
   ],
   "source": [
    "for i in range(5):\n",
    "    for j in range(5):\n",
    "        print('*',end='')\n",
    "    print()"
   ]
  },
  {
   "cell_type": "code",
   "execution_count": 21,
   "id": "6e1e6d23",
   "metadata": {},
   "outputs": [
    {
     "name": "stdout",
     "output_type": "stream",
     "text": [
      "45\n"
     ]
    }
   ],
   "source": [
    "sum = 0\n",
    "while True:\n",
    "    n = int(input('Enter a number from 0 to end'))\n",
    "    if n == 0:\n",
    "        break\n",
    "    sum = sum + n\n",
    "\n",
    "print(sum)\n"
   ]
  },
  {
   "cell_type": "code",
   "execution_count": 22,
   "id": "50ac0f60",
   "metadata": {},
   "outputs": [
    {
     "name": "stdout",
     "output_type": "stream",
     "text": [
      "0\n",
      "1\n",
      "2\n",
      "3\n",
      "4\n",
      "6\n",
      "7\n",
      "8\n",
      "9\n",
      "10\n"
     ]
    }
   ],
   "source": [
    "for i in range(0,11):\n",
    "    if  i == 5:\n",
    "        continue\n",
    "    print(i)"
   ]
  },
  {
   "cell_type": "code",
   "execution_count": 23,
   "id": "43a080be",
   "metadata": {},
   "outputs": [],
   "source": [
    "def func(n):\n",
    "    pass"
   ]
  },
  {
   "cell_type": "code",
   "execution_count": 24,
   "id": "df8d6aee",
   "metadata": {},
   "outputs": [
    {
     "name": "stdout",
     "output_type": "stream",
     "text": [
      "0\n",
      "2\n",
      "4\n",
      "6\n",
      "8\n",
      "10\n"
     ]
    }
   ],
   "source": [
    "n = int(input('Enter a number'))\n",
    "\n",
    "for i in range(0,n+1,2):\n",
    "    print(i)"
   ]
  },
  {
   "cell_type": "code",
   "execution_count": 25,
   "id": "87189b39",
   "metadata": {},
   "outputs": [
    {
     "name": "stdout",
     "output_type": "stream",
     "text": [
      "120\n"
     ]
    }
   ],
   "source": [
    "n = int(input('Enter a number'))\n",
    "\n",
    "fact = 1\n",
    "i = 1\n",
    "\n",
    "while i <= n:\n",
    "    fact = fact * i\n",
    "    i += 1\n",
    "print(fact)"
   ]
  },
  {
   "cell_type": "code",
   "execution_count": 26,
   "id": "2c4030b7",
   "metadata": {},
   "outputs": [
    {
     "name": "stdout",
     "output_type": "stream",
     "text": [
      "10\n"
     ]
    }
   ],
   "source": [
    "n = int(input('Enter a number'))\n",
    "sum = 0\n",
    "i = 0\n",
    "\n",
    "while i <= n:\n",
    "    sum += i\n",
    "    i += 1\n",
    "\n",
    "print(sum)"
   ]
  },
  {
   "cell_type": "code",
   "execution_count": 54,
   "id": "75841dee",
   "metadata": {},
   "outputs": [
    {
     "name": "stdout",
     "output_type": "stream",
     "text": [
      "It is not prime\n"
     ]
    }
   ],
   "source": [
    "n = int(input('Enter a number'))\n",
    "is_prime = True\n",
    "\n",
    "for i in range(2,n):\n",
    "    if n % i == 0:\n",
    "        is_prime = False\n",
    "    else:\n",
    "        continue\n",
    "\n",
    "if is_prime:\n",
    "    print('It is prime')\n",
    "else:\n",
    "    print('It is not prime')\n"
   ]
  },
  {
   "cell_type": "markdown",
   "id": "a8225f73",
   "metadata": {},
   "source": [
    "Intro to List\n",
    "\n",
    "List are ordered and mutable collections of items\n",
    "They can contain items of different data type\n",
    "\n",
    " "
   ]
  },
  {
   "cell_type": "code",
   "execution_count": 55,
   "id": "c86d31ec",
   "metadata": {},
   "outputs": [
    {
     "name": "stdout",
     "output_type": "stream",
     "text": [
      "0 1\n",
      "1 2\n",
      "2 3\n",
      "3 4\n",
      "4 5\n",
      "5 6\n",
      "6 7\n",
      "7 8\n"
     ]
    }
   ],
   "source": [
    "#Iterate with index\n",
    "l1 = [1,2,3,4,5,6,7,8]\n",
    "for index,number in enumerate(l1):\n",
    "    print(index,number)"
   ]
  },
  {
   "cell_type": "code",
   "execution_count": 56,
   "id": "ad167877",
   "metadata": {},
   "outputs": [
    {
     "data": {
      "text/plain": [
       "[0, 1, 4, 9, 16, 25, 36, 49, 64, 81]"
      ]
     },
     "execution_count": 56,
     "metadata": {},
     "output_type": "execute_result"
    }
   ],
   "source": [
    "#List comprehension\n",
    "[x**2 for x in range(10)]"
   ]
  },
  {
   "cell_type": "markdown",
   "id": "804e2a1e",
   "metadata": {},
   "source": [
    "List comprehension\n",
    "\n",
    "Basic Syntax ->   [expression for item in iterable]\n",
    "\n",
    "With conditional ->   [expression for item in iterable if condition]\n",
    "\n",
    "Nested list comprehension  \n",
    "[expression for item1 in iterable1 for item2 in iterable2]\n",
    "\n"
   ]
  },
  {
   "cell_type": "code",
   "execution_count": 57,
   "id": "066dcb63",
   "metadata": {},
   "outputs": [
    {
     "name": "stdout",
     "output_type": "stream",
     "text": [
      "[[1, 'a'], [1, 'b'], [1, 'c'], [2, 'a'], [2, 'b'], [2, 'c'], [3, 'a'], [3, 'b'], [3, 'c']]\n"
     ]
    }
   ],
   "source": [
    "#Nested list comprehension\n",
    "\n",
    "l1 = [1,2,3]\n",
    "l2 = ['a','b','c']\n",
    "\n",
    "pair = [[x,y] for x in l1 for y in l2]\n",
    "print(pair)"
   ]
  },
  {
   "cell_type": "markdown",
   "id": "1139c9d8",
   "metadata": {},
   "source": [
    "Tuple is like a list only but tuple is immutable\n",
    "() -> For tuple"
   ]
  },
  {
   "cell_type": "code",
   "execution_count": 58,
   "id": "54dc564a",
   "metadata": {},
   "outputs": [
    {
     "name": "stdout",
     "output_type": "stream",
     "text": [
      "()\n",
      "<class 'tuple'>\n"
     ]
    }
   ],
   "source": [
    "empty_tuple = ()\n",
    "print(empty_tuple)\n",
    "print(type(empty_tuple))"
   ]
  },
  {
   "cell_type": "code",
   "execution_count": 59,
   "id": "96218b4b",
   "metadata": {},
   "outputs": [
    {
     "name": "stdout",
     "output_type": "stream",
     "text": [
      "1\n",
      "2\n",
      "3\n"
     ]
    }
   ],
   "source": [
    "#Unpacking tuple\n",
    "t = (1,2,3)\n",
    "\n",
    "a,b,c = t\n",
    " \n",
    "print(a)\n",
    "print(b)\n",
    "print(c)"
   ]
  },
  {
   "cell_type": "code",
   "execution_count": 60,
   "id": "140ea70e",
   "metadata": {},
   "outputs": [
    {
     "name": "stdout",
     "output_type": "stream",
     "text": [
      "1\n",
      "[2, 3, 4, 5, 6, 7]\n",
      "8\n"
     ]
    }
   ],
   "source": [
    "#unpacking with *\n",
    "\n",
    "t = (1,2,3,4,5,6,7,8)\n",
    "\n",
    "first, *middle, last = t\n",
    "print(first)\n",
    "print(middle)\n",
    "print(last)"
   ]
  }
 ],
 "metadata": {
  "kernelspec": {
   "display_name": "venv",
   "language": "python",
   "name": "python3"
  },
  "language_info": {
   "codemirror_mode": {
    "name": "ipython",
    "version": 3
   },
   "file_extension": ".py",
   "mimetype": "text/x-python",
   "name": "python",
   "nbconvert_exporter": "python",
   "pygments_lexer": "ipython3",
   "version": "3.10.0"
  }
 },
 "nbformat": 4,
 "nbformat_minor": 5
}
