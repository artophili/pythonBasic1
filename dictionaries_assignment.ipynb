{
 "cells": [
  {
   "cell_type": "markdown",
   "metadata": {},
   "source": [
    "# Module 3: Data Structures Assignments\n",
    "## Lesson 3.4: Dictionaries\n",
    "### Assignment 1: Creating and Accessing Dictionaries\n",
    "\n",
    "Create a dictionary with the first 10 positive integers as keys and their squares as values. Print the dictionary.\n",
    "\n",
    "### Assignment 2: Accessing Dictionary Elements\n",
    "\n",
    "Print the value of the key 5 and the keys of the dictionary created in Assignment 1.\n",
    "\n",
    "### Assignment 3: Dictionary Methods\n",
    "\n",
    "Add a new key-value pair (11, 121) to the dictionary created in Assignment 1 and then remove the key-value pair with key 1. Print the modified dictionary.\n",
    "\n",
    "### Assignment 4: Iterating Over Dictionaries\n",
    "\n",
    "Iterate over the dictionary created in Assignment 1 and print each key-value pair.\n",
    "\n",
    "### Assignment 5: Dictionary Comprehensions\n",
    "\n",
    "Create a new dictionary containing the cubes of the first 10 positive integers using a dictionary comprehension. Print the new dictionary.\n",
    "\n",
    "### Assignment 6: Merging Dictionaries\n",
    "\n",
    "Create two dictionaries: one with keys as the first 5 positive integers and values as their squares, and another with keys as the next 5 positive integers and values as their squares. Merge these dictionaries into a single dictionary and print it.\n",
    "\n",
    "### Assignment 7: Nested Dictionaries\n",
    "\n",
    "Create a nested dictionary representing a student with keys 'name', 'age', 'grades', where 'grades' is another dictionary with keys 'math', 'science', and 'english'. Print the nested dictionary.\n",
    "\n",
    "### Assignment 8: Dictionary of Lists\n",
    "\n",
    "Create a dictionary where the keys are the first 5 positive integers and the values are lists containing the first 5 multiples of the key. Print the dictionary.\n",
    "\n",
    "### Assignment 9: Dictionary of Tuples\n",
    "\n",
    "Create a dictionary where the keys are the first 5 positive integers and the values are tuples containing the key and its square. Print the dictionary.\n",
    "\n",
    "### Assignment 10: Dictionary and List Conversion\n",
    "\n",
    "Create a dictionary with the first 5 positive integers as keys and their squares as values. Convert the dictionary to a list of tuples and print it.\n",
    "\n",
    "### Assignment 11: Dictionary Filtering\n",
    "\n",
    "Create a dictionary with the first 10 positive integers as keys and their squares as values. Create a new dictionary containing only the key-value pairs where the key is even. Print the new dictionary.\n",
    "\n",
    "### Assignment 12: Dictionary Key and Value Transformation\n",
    "\n",
    "Create a dictionary with the first 5 positive integers as keys and their squares as values. Create a new dictionary with keys and values swapped. Print the new dictionary.\n",
    "\n",
    "### Assignment 13: Default Dictionary\n",
    "\n",
    "Create a default dictionary where each key has a default value of an empty list. Add some elements to the lists and print the dictionary.\n",
    "\n",
    "### Assignment 14: Counting with Dictionaries\n",
    "\n",
    "Write a function that takes a string and returns a dictionary with the count of each character in the string. Print the dictionary.\n",
    "\n",
    "### Assignment 15: Dictionary and JSON\n",
    "\n",
    "Create a dictionary representing a book with keys 'title', 'author', 'year', and 'genre'. Convert the dictionary to a JSON string and print it."
   ]
  },
  {
   "cell_type": "code",
   "execution_count": 1,
   "metadata": {},
   "outputs": [
    {
     "name": "stdout",
     "output_type": "stream",
     "text": [
      "{1: 1, 2: 4, 3: 9, 4: 16, 5: 25, 6: 36, 7: 49, 8: 64, 9: 81, 10: 100}\n"
     ]
    }
   ],
   "source": [
    "d = {\n",
    "    1 : 1,\n",
    "    2 : 4,\n",
    "    3 : 9,\n",
    "    4 : 16,\n",
    "    5 : 25,\n",
    "    6 : 36,\n",
    "    7 : 49,\n",
    "    8 : 64,\n",
    "    9 : 81,\n",
    "    10 : 100\n",
    "}\n",
    "\n",
    "print(d)"
   ]
  },
  {
   "cell_type": "code",
   "execution_count": 2,
   "id": "0cf08529",
   "metadata": {},
   "outputs": [
    {
     "name": "stdout",
     "output_type": "stream",
     "text": [
      "25\n"
     ]
    }
   ],
   "source": [
    "print(d[5])"
   ]
  },
  {
   "cell_type": "code",
   "execution_count": 3,
   "id": "b2edbc01",
   "metadata": {},
   "outputs": [
    {
     "name": "stdout",
     "output_type": "stream",
     "text": [
      "1\n",
      "4\n",
      "9\n",
      "16\n",
      "25\n",
      "36\n",
      "49\n",
      "64\n",
      "81\n",
      "100\n"
     ]
    }
   ],
   "source": [
    "for i in range(1,11):\n",
    "    print(d[i])\n"
   ]
  },
  {
   "cell_type": "code",
   "execution_count": 4,
   "id": "f94bf147",
   "metadata": {},
   "outputs": [],
   "source": [
    "d[11] = 121"
   ]
  },
  {
   "cell_type": "code",
   "execution_count": 5,
   "id": "96a51b71",
   "metadata": {},
   "outputs": [
    {
     "name": "stdout",
     "output_type": "stream",
     "text": [
      "{1: 1, 2: 4, 3: 9, 4: 16, 5: 25, 6: 36, 7: 49, 8: 64, 9: 81, 10: 100, 11: 121}\n"
     ]
    }
   ],
   "source": [
    "print(d)"
   ]
  },
  {
   "cell_type": "code",
   "execution_count": 6,
   "id": "6e2518df",
   "metadata": {},
   "outputs": [],
   "source": [
    "del d[1]"
   ]
  },
  {
   "cell_type": "code",
   "execution_count": 7,
   "id": "94e1167d",
   "metadata": {},
   "outputs": [
    {
     "name": "stdout",
     "output_type": "stream",
     "text": [
      "{2: 4, 3: 9, 4: 16, 5: 25, 6: 36, 7: 49, 8: 64, 9: 81, 10: 100, 11: 121}\n"
     ]
    }
   ],
   "source": [
    "print(d)"
   ]
  },
  {
   "cell_type": "code",
   "execution_count": 19,
   "id": "da3c0b51",
   "metadata": {},
   "outputs": [
    {
     "name": "stdout",
     "output_type": "stream",
     "text": [
      "dict_keys([2, 3, 4, 5, 6, 7, 8, 9, 10, 11])\n",
      "dict_values([4, 9, 16, 25, 36, 49, 64, 81, 100, 121])\n",
      "[2, 3, 4, 5, 6, 7, 8, 9, 10, 11]\n",
      "[4, 9, 16, 25, 36, 49, 64, 81, 100, 121]\n"
     ]
    }
   ],
   "source": [
    "keys = d.keys()\n",
    "values = d.values()\n",
    "\n",
    "print(keys)\n",
    "print(values)\n",
    "\n",
    "l1 = list(keys)\n",
    "l2 = list(values)\n",
    "print(l1)\n",
    "print(l2)"
   ]
  },
  {
   "cell_type": "code",
   "execution_count": 20,
   "id": "f154f70a",
   "metadata": {},
   "outputs": [
    {
     "name": "stdout",
     "output_type": "stream",
     "text": [
      "{2: 4, 3: 9, 4: 16, 5: 25, 6: 36, 7: 49, 8: 64, 9: 81, 10: 100, 11: 121}\n",
      "{2: 4, 3: 9, 4: 16, 5: 25, 6: 36, 7: 49, 8: 64, 9: 81, 10: 100, 11: 121}\n"
     ]
    }
   ],
   "source": [
    "#Shallow copy\n",
    "d_copy = d\n",
    "print(d)\n",
    "print(d_copy)"
   ]
  },
  {
   "cell_type": "code",
   "execution_count": 21,
   "id": "d6a3d394",
   "metadata": {},
   "outputs": [
    {
     "name": "stdout",
     "output_type": "stream",
     "text": [
      "{2: 8, 3: 9, 4: 16, 5: 25, 6: 36, 7: 49, 8: 64, 9: 81, 10: 100, 11: 121}\n",
      "{2: 8, 3: 9, 4: 16, 5: 25, 6: 36, 7: 49, 8: 64, 9: 81, 10: 100, 11: 121}\n"
     ]
    }
   ],
   "source": [
    "d[2] = 8\n",
    "print(d)\n",
    "print(d_copy)\n"
   ]
  },
  {
   "cell_type": "code",
   "execution_count": null,
   "id": "439c81a0",
   "metadata": {},
   "outputs": [],
   "source": [
    "'''normal copy, if we update one of the key value then \n",
    "it will get updated in the copy as well'''\n",
    "\n",
    "'''If we need a different copy which will not get updated by updating the \n",
    "original copy then we will create a shallow copy'''\n",
    "\n"
   ]
  },
  {
   "cell_type": "code",
   "execution_count": 24,
   "id": "921a937d",
   "metadata": {},
   "outputs": [
    {
     "name": "stdout",
     "output_type": "stream",
     "text": [
      "{2: 8, 3: 27, 4: 16, 5: 25, 6: 36, 7: 49, 8: 64, 9: 81, 10: 100, 11: 121}\n",
      "{2: 8, 3: 27, 4: 16, 5: 25, 6: 36, 7: 49, 8: 64, 9: 81, 10: 100, 11: 121}\n"
     ]
    }
   ],
   "source": [
    "d_shallow = d.copy() #Shallow copy\n",
    "d[3] = 27\n",
    "print(d)\n",
    "print(d_shallow)"
   ]
  },
  {
   "cell_type": "code",
   "execution_count": 26,
   "id": "72ef7b43",
   "metadata": {},
   "outputs": [
    {
     "name": "stdout",
     "output_type": "stream",
     "text": [
      "{2: 8, 3: 27, 4: 16, 5: 25, 6: 36, 7: 49, 8: 64, 9: 81, 10: 100, 11: 121}\n",
      "{2: 8, 3: 27, 4: 16, 5: 25, 6: 36, 7: 49, 8: 64, 9: 81, 10: 100, 11: 121}\n"
     ]
    }
   ],
   "source": [
    "d[3] = 27\n",
    "print(d)\n",
    "print(d_shallow)"
   ]
  },
  {
   "cell_type": "code",
   "execution_count": 27,
   "id": "d42ec990",
   "metadata": {},
   "outputs": [],
   "source": [
    "d[4] = 64"
   ]
  },
  {
   "cell_type": "code",
   "execution_count": 28,
   "id": "da47a4a3",
   "metadata": {},
   "outputs": [
    {
     "name": "stdout",
     "output_type": "stream",
     "text": [
      "{2: 8, 3: 27, 4: 16, 5: 25, 6: 36, 7: 49, 8: 64, 9: 81, 10: 100, 11: 121}\n",
      "{2: 8, 3: 27, 4: 64, 5: 25, 6: 36, 7: 49, 8: 64, 9: 81, 10: 100, 11: 121}\n"
     ]
    }
   ],
   "source": [
    "print(d_shallow)\n",
    "print(d)"
   ]
  },
  {
   "cell_type": "code",
   "execution_count": 29,
   "id": "710fe399",
   "metadata": {},
   "outputs": [
    {
     "name": "stdout",
     "output_type": "stream",
     "text": [
      "2\n",
      "3\n",
      "4\n",
      "5\n",
      "6\n",
      "7\n",
      "8\n",
      "9\n",
      "10\n",
      "11\n"
     ]
    }
   ],
   "source": [
    "for keys in d.keys():\n",
    "    print(keys)"
   ]
  },
  {
   "cell_type": "code",
   "execution_count": 30,
   "id": "772b503a",
   "metadata": {},
   "outputs": [
    {
     "name": "stdout",
     "output_type": "stream",
     "text": [
      "8\n",
      "27\n",
      "64\n",
      "25\n",
      "36\n",
      "49\n",
      "64\n",
      "81\n",
      "100\n",
      "121\n"
     ]
    }
   ],
   "source": [
    "for values in d.values():\n",
    "    print(values)"
   ]
  },
  {
   "cell_type": "code",
   "execution_count": 31,
   "id": "c8da3f78",
   "metadata": {},
   "outputs": [
    {
     "name": "stdout",
     "output_type": "stream",
     "text": [
      "2 : 8\n",
      "3 : 27\n",
      "4 : 64\n",
      "5 : 25\n",
      "6 : 36\n",
      "7 : 49\n",
      "8 : 64\n",
      "9 : 81\n",
      "10 : 100\n",
      "11 : 121\n"
     ]
    }
   ],
   "source": [
    "for keys,values in d.items():\n",
    "    print(keys,':',values)"
   ]
  },
  {
   "cell_type": "code",
   "execution_count": 45,
   "id": "04b0f854",
   "metadata": {},
   "outputs": [
    {
     "name": "stdout",
     "output_type": "stream",
     "text": [
      "{'name': 'Peter', 'age': 25, 'Grades': {'Maths': 'A+', 'Science': 'A', 'English': 'O'}}\n",
      "name Peter\n",
      "Peter\n",
      "<class 'str'>\n",
      "age 25\n",
      "25\n",
      "<class 'int'>\n",
      "Grades {'Maths': 'A+', 'Science': 'A', 'English': 'O'}\n",
      "{'Maths': 'A+', 'Science': 'A', 'English': 'O'}\n",
      "<class 'dict'>\n"
     ]
    }
   ],
   "source": [
    "#Nested dictionaries\n",
    "\n",
    "student = {\n",
    "    'name':'Peter',\n",
    "    'age':25,\n",
    "    'Grades':{\n",
    "        'Maths':'A+',\n",
    "        'Science':'A',\n",
    "        'English':'O'\n",
    "          \n",
    "      }\n",
    "}\n",
    "print(student)\n",
    "\n",
    "for student_info, student_grade in student.items():\n",
    "    print(student_info,student_grade)\n",
    "    print(student_grade)\n",
    "    print(type(student_grade))"
   ]
  },
  {
   "cell_type": "code",
   "execution_count": 34,
   "id": "20cf1394",
   "metadata": {},
   "outputs": [
    {
     "name": "stdout",
     "output_type": "stream",
     "text": [
      "{1: (1, 1), 2: (2, 4), 3: (3, 9), 4: (4, 16), 5: (5, 25)}\n"
     ]
    }
   ],
   "source": [
    "d_tuple = {\n",
    "    1 : (1,1),\n",
    "    2 : (2,4),\n",
    "    3 : (3,9),\n",
    "    4 : (4,16),\n",
    "    5 : (5,25)\n",
    "}\n",
    "print(d_tuple)"
   ]
  },
  {
   "cell_type": "code",
   "execution_count": 46,
   "id": "425378d4",
   "metadata": {},
   "outputs": [
    {
     "name": "stdout",
     "output_type": "stream",
     "text": [
      "{0: 0, 1: 1, 2: 8, 3: 27, 4: 64, 5: 125, 6: 216, 7: 343, 8: 512, 9: 729, 10: 1000}\n"
     ]
    }
   ],
   "source": [
    "cube = {x:x**3 for x in range(11)}\n",
    "print(cube)"
   ]
  },
  {
   "cell_type": "code",
   "execution_count": 47,
   "id": "e30b31ec",
   "metadata": {},
   "outputs": [
    {
     "name": "stdout",
     "output_type": "stream",
     "text": [
      "{11: 1331, 12: 1728, 13: 2197, 14: 2744, 15: 3375, 16: 4096, 17: 4913, 18: 5832, 19: 6859, 20: 8000}\n"
     ]
    }
   ],
   "source": [
    "cube1= {x:x**3 for x in range(11,21)}\n",
    "print(cube1)"
   ]
  },
  {
   "cell_type": "code",
   "execution_count": 48,
   "id": "bca14e3e",
   "metadata": {},
   "outputs": [
    {
     "name": "stdout",
     "output_type": "stream",
     "text": [
      "{1: 1, 2: 2, 3: 4, 4: 3, 5: 4, 6: 2}\n"
     ]
    }
   ],
   "source": [
    "numbers = [1,2,2,3,3,3,3,4,4,4,5,5,5,5,6,6]\n",
    "count = {}\n",
    "for i in numbers:\n",
    "    count[i] = numbers.count(i)\n",
    "\n",
    "print(count)\n"
   ]
  },
  {
   "cell_type": "code",
   "execution_count": 49,
   "id": "97330cb8",
   "metadata": {},
   "outputs": [
    {
     "name": "stdout",
     "output_type": "stream",
     "text": [
      "{1: 1, 2: 2, 3: 4, 4: 3, 5: 4, 6: 2}\n"
     ]
    }
   ],
   "source": [
    "numbers = [1,2,2,3,3,3,3,4,4,4,5,5,5,5,6,6]\n",
    "freq = {}\n",
    "\n",
    "for i in numbers:\n",
    "    if i in freq:\n",
    "        freq[i] += 1\n",
    "    else:\n",
    "        freq[i] = 1\n",
    "\n",
    "print(freq)"
   ]
  },
  {
   "cell_type": "code",
   "execution_count": 50,
   "id": "0e40529c",
   "metadata": {},
   "outputs": [
    {
     "name": "stdout",
     "output_type": "stream",
     "text": [
      "{0: 0, 1: 1, 2: 8, 3: 27, 4: 64, 5: 125, 6: 216, 7: 343, 8: 512, 9: 729, 10: 1000, 11: 1331, 12: 1728, 13: 2197, 14: 2744, 15: 3375, 16: 4096, 17: 4913, 18: 5832, 19: 6859, 20: 8000}\n"
     ]
    }
   ],
   "source": [
    "merged_cube = {**cube,**cube1} #Keyword argument : Argument contains key value pair\n",
    "print(merged_cube)"
   ]
  },
  {
   "cell_type": "code",
   "execution_count": 51,
   "id": "1567be1e",
   "metadata": {},
   "outputs": [
    {
     "name": "stdout",
     "output_type": "stream",
     "text": [
      "{0: [0, 0, 0, 0, 0, 0], 1: [0, 1, 2, 3, 4, 5], 2: [0, 2, 4, 6, 8, 10], 3: [0, 3, 6, 9, 12, 15], 4: [0, 4, 8, 12, 16, 20], 5: [0, 5, 10, 15, 20, 25]}\n"
     ]
    }
   ],
   "source": [
    "multiple = {x:[x*i for i in range(6)] for x in range(6)}\n",
    "print(multiple)"
   ]
  },
  {
   "cell_type": "code",
   "execution_count": 52,
   "id": "92f8f8c4",
   "metadata": {},
   "outputs": [
    {
     "name": "stdout",
     "output_type": "stream",
     "text": [
      "{0: (0, 0), 1: (1, 1), 2: (2, 4), 3: (3, 9), 4: (4, 16), 5: (5, 25)}\n"
     ]
    }
   ],
   "source": [
    "sq = {x:(x,x**2) for x in range(6)}\n",
    "print(sq)"
   ]
  },
  {
   "cell_type": "code",
   "execution_count": 56,
   "id": "16546232",
   "metadata": {},
   "outputs": [
    {
     "name": "stdout",
     "output_type": "stream",
     "text": [
      "{0: 0, 1: 1, 2: 4, 3: 9, 4: 16, 5: 25}\n",
      "[(0, 0), (1, 1), (2, 4), (3, 9), (4, 16), (5, 25)]\n"
     ]
    }
   ],
   "source": [
    "sq1 = {x:x**2 for x in range(6)}\n",
    "print(sq1)\n",
    "\n",
    "l = [(x,y) for x,y in sq1.items()]\n",
    "print(l)"
   ]
  },
  {
   "cell_type": "code",
   "execution_count": 57,
   "id": "35d4823b",
   "metadata": {},
   "outputs": [
    {
     "name": "stdout",
     "output_type": "stream",
     "text": [
      "0 : 0\n",
      "2 : 4\n",
      "4 : 16\n",
      "6 : 36\n",
      "8 : 64\n",
      "10 : 100\n"
     ]
    }
   ],
   "source": [
    "sq2 = {x:x**2 for x in range(11)}\n",
    "\n",
    "for key,value in sq2.items():\n",
    "    if key % 2 == 0:\n",
    "        print(key,':',value)"
   ]
  },
  {
   "cell_type": "code",
   "execution_count": 58,
   "id": "e6240526",
   "metadata": {},
   "outputs": [
    {
     "name": "stdout",
     "output_type": "stream",
     "text": [
      "{0: 0, 1: 1, 4: 2, 9: 3, 16: 4, 25: 5}\n"
     ]
    }
   ],
   "source": [
    "swapped = {}\n",
    "for key,value in sq1.items():\n",
    "    swapped[value] = key\n",
    "print(swapped)\n"
   ]
  },
  {
   "cell_type": "code",
   "execution_count": 60,
   "id": "7fd9a99c",
   "metadata": {},
   "outputs": [
    {
     "name": "stdout",
     "output_type": "stream",
     "text": [
      "defaultdict(<class 'list'>, {'a': [1, 2], 'b': [3]})\n"
     ]
    }
   ],
   "source": [
    "from collections import defaultdict\n",
    "\n",
    "default_dict= defaultdict(list)\n",
    "default_dict['a'].append(1)\n",
    "default_dict['a'].append(2)\n",
    "default_dict['b'].append(3)\n",
    "\n",
    "print(default_dict)"
   ]
  },
  {
   "cell_type": "code",
   "execution_count": 61,
   "id": "700a9d83",
   "metadata": {},
   "outputs": [
    {
     "name": "stdout",
     "output_type": "stream",
     "text": [
      "{'akshay': 3, 'santosh': 1, 'rane': 5}\n"
     ]
    }
   ],
   "source": [
    "s = input('Enter a string')\n",
    "\n",
    "l = s.split()\n",
    "freq = {}\n",
    "\n",
    "for i in l:\n",
    "    freq[i] = l.count(i)\n",
    "print(freq)"
   ]
  },
  {
   "cell_type": "code",
   "execution_count": 63,
   "id": "572cec5e",
   "metadata": {},
   "outputs": [
    {
     "name": "stdout",
     "output_type": "stream",
     "text": [
      "{\"1\": 1, \"2\": 4, \"3\": 9, \"4\": 16, \"5\": 25, \"6\": 36, \"7\": 49, \"8\": 64, \"9\": 81, \"10\": 100}\n",
      "<class 'str'>\n"
     ]
    }
   ],
   "source": [
    "import json\n",
    "d = {\n",
    "    1 : 1,\n",
    "    2 : 4,\n",
    "    3 : 9,\n",
    "    4 : 16,\n",
    "    5 : 25,\n",
    "    6 : 36,\n",
    "    7 : 49,\n",
    "    8 : 64,\n",
    "    9 : 81,\n",
    "    10 : 100\n",
    "}\n",
    "\n",
    "d_json = json.dumps(d)\n",
    "print(d_json)\n",
    "print(type(d_json))"
   ]
  }
 ],
 "metadata": {
  "kernelspec": {
   "display_name": "venv",
   "language": "python",
   "name": "python3"
  },
  "language_info": {
   "codemirror_mode": {
    "name": "ipython",
    "version": 3
   },
   "file_extension": ".py",
   "mimetype": "text/x-python",
   "name": "python",
   "nbconvert_exporter": "python",
   "pygments_lexer": "ipython3",
   "version": "3.10.0"
  }
 },
 "nbformat": 4,
 "nbformat_minor": 5
}
