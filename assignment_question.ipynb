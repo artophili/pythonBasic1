{
 "cells": [
  {
   "cell_type": "markdown",
   "metadata": {},
   "source": [
    "# Lesson 1.2: Python Basics\n",
    "## Topics Covered:\n",
    "- Syntax and Semantics\n",
    "- Variables and Data Types\n",
    "- Basic Operators (Arithmetic, Comparison, Logical)\n"
   ]
  },
  {
   "cell_type": "markdown",
   "metadata": {},
   "source": [
    "## 1. Syntax and Semantics\n",
    "\n",
    "**Question 1:** Write a Python program to print \"Hello, World!\"."
   ]
  },
  {
   "cell_type": "code",
   "execution_count": 1,
   "metadata": {},
   "outputs": [
    {
     "name": "stdout",
     "output_type": "stream",
     "text": [
      "Hello, World!\n"
     ]
    }
   ],
   "source": [
    "print(\"Hello, World!\")"
   ]
  },
  {
   "cell_type": "markdown",
   "metadata": {},
   "source": [
    "**Question 2:** Write a Python program that takes a user input and prints it."
   ]
  },
  {
   "cell_type": "code",
   "execution_count": 2,
   "metadata": {},
   "outputs": [
    {
     "name": "stdout",
     "output_type": "stream",
     "text": [
      "5\n"
     ]
    }
   ],
   "source": [
    "# Your code here\n",
    "n = input(\"Enter here\")\n",
    "print(n)"
   ]
  },
  {
   "cell_type": "markdown",
   "metadata": {},
   "source": [
    "**Question 3:** Write a Python program to check if a number is positive, negative, or zero."
   ]
  },
  {
   "cell_type": "code",
   "execution_count": 3,
   "metadata": {},
   "outputs": [
    {
     "name": "stdout",
     "output_type": "stream",
     "text": [
      "Positive\n"
     ]
    }
   ],
   "source": [
    "# Your code here\n",
    "n = int(input(\"Enter number\"))\n",
    "\n",
    "if n < 0:\n",
    "    print(\"Negative\")\n",
    "elif n > 0:\n",
    "    print(\"Positive\")\n",
    "else:\n",
    "    print(\"Zero\")"
   ]
  },
  {
   "cell_type": "markdown",
   "metadata": {},
   "source": [
    "**Question 4:** Write a Python program to find the largest of three numbers."
   ]
  },
  {
   "cell_type": "code",
   "execution_count": 4,
   "metadata": {},
   "outputs": [
    {
     "name": "stdout",
     "output_type": "stream",
     "text": [
      "Largest number: 23\n"
     ]
    }
   ],
   "source": [
    "# Your code here\n",
    "\n",
    "n1 = int(input(\"Enter 1st number\"))\n",
    "n2 = int(input(\"Enter 2nd number\"))\n",
    "n3 = int(input(\"Enter 3rd number\"))\n",
    "\n",
    "if n1 > n2 and n1 > n3:\n",
    "    print(\"Largest number:\", n1)\n",
    "elif n2 > n1 and n2 > n3:\n",
    "    print(\"Largest number:\", n2)\n",
    "else:\n",
    "    print(\"Largest number:\", n3)\n",
    "\n"
   ]
  },
  {
   "cell_type": "markdown",
   "metadata": {},
   "source": [
    "**Question 5:** Write a Python program to calculate the factorial of a number."
   ]
  },
  {
   "cell_type": "code",
   "execution_count": 1,
   "metadata": {},
   "outputs": [
    {
     "name": "stdout",
     "output_type": "stream",
     "text": [
      "120\n"
     ]
    }
   ],
   "source": [
    "# Your code here\n",
    "\n",
    "n = int(input(\"Enter a number\"))\n",
    "fact = 1\n",
    "for i in range(n, 0, -1):\n",
    "    fact = fact * i\n",
    "\n",
    "print(fact)\n"
   ]
  },
  {
   "cell_type": "markdown",
   "metadata": {},
   "source": [
    "## 2. Variables and Data Types\n",
    "\n",
    "**Question 6:** Create variables of different data types: integer, float, string, and boolean. Print their values and types."
   ]
  },
  {
   "cell_type": "code",
   "execution_count": 3,
   "metadata": {},
   "outputs": [
    {
     "name": "stdout",
     "output_type": "stream",
     "text": [
      "12\n",
      "2.3\n",
      "Akshay\n",
      "True\n"
     ]
    }
   ],
   "source": [
    "# Your code here\n",
    "n1 = 12\n",
    "n2 = 2.3\n",
    "n3 = 'Akshay'\n",
    "n4 = True\n",
    "\n",
    "print(n1)\n",
    "print(n2)\n",
    "print(n3)\n",
    "print(n4)"
   ]
  },
  {
   "cell_type": "markdown",
   "metadata": {},
   "source": [
    "**Question 7:** Write a Python program to swap the values of two variables."
   ]
  },
  {
   "cell_type": "code",
   "execution_count": 8,
   "metadata": {},
   "outputs": [
    {
     "name": "stdout",
     "output_type": "stream",
     "text": [
      "akshay\n",
      "23\n"
     ]
    }
   ],
   "source": [
    "# Your code here\n",
    "n1= 23\n",
    "n2 = 'akshay'\n",
    "n3 = n1\n",
    "n1 = n2\n",
    "n2 = n3\n",
    "print(n1)\n",
    "print(n2)"
   ]
  },
  {
   "cell_type": "markdown",
   "metadata": {},
   "source": [
    "**Question 8:** Write a Python program to convert Celsius to Fahrenheit."
   ]
  },
  {
   "cell_type": "code",
   "execution_count": 12,
   "metadata": {},
   "outputs": [
    {
     "name": "stdout",
     "output_type": "stream",
     "text": [
      "73.4\n"
     ]
    }
   ],
   "source": [
    "# Your code here\n",
    "\n",
    "def celtoFar(n):\n",
    "    f = n*(9/5)+32\n",
    "    return f\n",
    "\n",
    "n = int(input('Enter celsius'))\n",
    "re = celtoFar(n)\n",
    "print(re)"
   ]
  },
  {
   "cell_type": "markdown",
   "metadata": {},
   "source": [
    "**Question 9:** Write a Python program to concatenate two strings."
   ]
  },
  {
   "cell_type": "code",
   "execution_count": 15,
   "metadata": {},
   "outputs": [
    {
     "name": "stdout",
     "output_type": "stream",
     "text": [
      "akshay rane\n"
     ]
    }
   ],
   "source": [
    "# Your code here\n",
    "s1 = input('Enter 1st string')\n",
    "s2 = input('Enter 2nd string')\n",
    "\n",
    "re = s1 +' '+ s2\n",
    "\n",
    "print(re)\n",
    "\n"
   ]
  },
  {
   "cell_type": "code",
   "execution_count": 17,
   "metadata": {},
   "outputs": [
    {
     "data": {
      "text/plain": [
       "str"
      ]
     },
     "execution_count": 17,
     "metadata": {},
     "output_type": "execute_result"
    }
   ],
   "source": [
    "type('k')"
   ]
  },
  {
   "cell_type": "markdown",
   "metadata": {},
   "source": [
    "**Question 10:** Write a Python program to check if a variable is of a specific data type."
   ]
  },
  {
   "cell_type": "code",
   "execution_count": 26,
   "metadata": {},
   "outputs": [
    {
     "name": "stdout",
     "output_type": "stream",
     "text": [
      "Var is int\n"
     ]
    }
   ],
   "source": [
    "# Your code here\n",
    "import re\n",
    "n = input('Enter a var to check')\n",
    "\n",
    "try:\n",
    "    int_val = int(n)\n",
    "    print('Var is int')\n",
    "except ValueError:\n",
    "    try:\n",
    "        float_val = float(n)\n",
    "        print('Var is float')\n",
    "    except ValueError:\n",
    "        if n == 'True' or n == 'False':\n",
    "            print('Var is Boolean')\n",
    "        else:\n",
    "            print('Var is string')\n"
   ]
  },
  {
   "cell_type": "markdown",
   "metadata": {},
   "source": [
    "## 3. Basic Operators (Arithmetic, Comparison, Logical)\n",
    "\n",
    "**Question 11:** Write a Python program to perform arithmetic operations: addition, subtraction, multiplication, and division."
   ]
  },
  {
   "cell_type": "code",
   "execution_count": 27,
   "metadata": {},
   "outputs": [
    {
     "name": "stdout",
     "output_type": "stream",
     "text": [
      "68\n",
      "-22\n",
      "1035\n",
      "0.5111111111111111\n"
     ]
    }
   ],
   "source": [
    "# Your code here\n",
    "n1 = int(input('Enter a number'))\n",
    "n2 = int(input('Enter a number'))\n",
    "\n",
    "print(n1+n2)\n",
    "print(n1-n2)\n",
    "print(n1*n2)\n",
    "print(n1/n2)\n",
    "\n"
   ]
  },
  {
   "cell_type": "markdown",
   "metadata": {},
   "source": [
    "**Question 12:** Write a Python program to demonstrate comparison operators: equal to, not equal to, greater than, less than."
   ]
  },
  {
   "cell_type": "code",
   "execution_count": 31,
   "metadata": {},
   "outputs": [
    {
     "name": "stdout",
     "output_type": "stream",
     "text": [
      "12 is equal to 12\n"
     ]
    }
   ],
   "source": [
    "# Your code here\n",
    "n1 = int(input('Enter a number'))\n",
    "n2 = int(input('Enter a number'))\n",
    "\n",
    "if n1 > n2:\n",
    "    print(n1,'is greater than', n2)\n",
    "elif n2 > n1:\n",
    "    print(n2, 'is greater than', n1)\n",
    "else:\n",
    "    print(n1, 'is equal to', n2)\n"
   ]
  },
  {
   "cell_type": "markdown",
   "metadata": {},
   "source": [
    "**Question 13:** Write a Python program to demonstrate logical operators: and, or, not."
   ]
  },
  {
   "cell_type": "code",
   "execution_count": 36,
   "metadata": {},
   "outputs": [
    {
     "name": "stdout",
     "output_type": "stream",
     "text": [
      "23 is greater than 13 and 23 is a odd number\n"
     ]
    }
   ],
   "source": [
    "# Your code here\n",
    "n1 = int(input('Enter a number'))\n",
    "n2 = int(input('Enter a number'))\n",
    "\n",
    "if n1 > n2 and n1 % 2 == 0:\n",
    "    print(n1,'is greater than', n2, 'and', n1,'is a even number')\n",
    "elif n2 > n1 and n2 % 2 == 0:\n",
    "    print(n2,'is greater than', n1, 'and', n2,'is a even number')\n",
    "elif n1 > n2 and n1 % 2 != 0:\n",
    "    print(n1,'is greater than', n2, 'and', n1,'is a odd number')\n",
    "elif n2 > n1 and n2 % 2 != 0:\n",
    "    print(n2,'is greater than', n1, 'and', n2,'is a odd number')\n",
    "\n",
    "\n",
    "\n"
   ]
  },
  {
   "cell_type": "markdown",
   "metadata": {},
   "source": [
    "**Question 14:** Write a Python program to calculate the square of a number."
   ]
  },
  {
   "cell_type": "code",
   "execution_count": 39,
   "metadata": {},
   "outputs": [
    {
     "name": "stdout",
     "output_type": "stream",
     "text": [
      "Square of 20 is 400\n"
     ]
    }
   ],
   "source": [
    "# Your code here\n",
    "n1 = int(input('Enter a number'))\n",
    "\n",
    "print('Square of',n1,'is',n1*n1)\n"
   ]
  },
  {
   "cell_type": "markdown",
   "metadata": {},
   "source": [
    "**Question 15:** Write a Python program to check if a number is even or odd."
   ]
  },
  {
   "cell_type": "code",
   "execution_count": 40,
   "metadata": {},
   "outputs": [
    {
     "name": "stdout",
     "output_type": "stream",
     "text": [
      "3 is odd\n"
     ]
    }
   ],
   "source": [
    "# Your code here\n",
    "\n",
    "n1 = int(input('Enter a number'))\n",
    "\n",
    "if n1 % 2 == 0:\n",
    "    print(n1, 'is even')\n",
    "else:\n",
    "    print(n1, 'is odd')"
   ]
  },
  {
   "cell_type": "markdown",
   "metadata": {},
   "source": [
    "**Question 16:** Write a Python program to find the sum of the first n natural numbers."
   ]
  },
  {
   "cell_type": "code",
   "execution_count": 44,
   "metadata": {},
   "outputs": [
    {
     "name": "stdout",
     "output_type": "stream",
     "text": [
      "55\n"
     ]
    }
   ],
   "source": [
    "# Your code here\n",
    "\n",
    "n = int(input('Enter a number to find the sum till that number'))\n",
    "\n",
    "def nSum(n):\n",
    "    sum = (n/2)*(1+n)\n",
    "    print(int(sum))\n",
    "\n",
    "nSum(n)"
   ]
  },
  {
   "cell_type": "markdown",
   "metadata": {},
   "source": [
    "**Question 17:** Write a Python program to check if a year is a leap year."
   ]
  },
  {
   "cell_type": "code",
   "execution_count": 46,
   "metadata": {},
   "outputs": [
    {
     "name": "stdout",
     "output_type": "stream",
     "text": [
      "Year is not a leap year\n"
     ]
    }
   ],
   "source": [
    "# Your code here\n",
    "\n",
    "year = int(input('Enter a year'))\n",
    "\n",
    "if year % 4 == 0:\n",
    "    print('Year is leap')\n",
    "else:\n",
    "    print('Year is not a leap year')"
   ]
  },
  {
   "cell_type": "code",
   "execution_count": 49,
   "metadata": {},
   "outputs": [
    {
     "name": "stdout",
     "output_type": "stream",
     "text": [
      "6\n"
     ]
    },
    {
     "data": {
      "text/plain": [
       "'a'"
      ]
     },
     "execution_count": 49,
     "metadata": {},
     "output_type": "execute_result"
    }
   ],
   "source": [
    "s = 'aksahy'\n",
    "print(len(s))\n",
    "s[0]"
   ]
  },
  {
   "cell_type": "markdown",
   "metadata": {},
   "source": [
    "**Question 18:** Write a Python program to reverse a string."
   ]
  },
  {
   "cell_type": "code",
   "execution_count": 56,
   "metadata": {},
   "outputs": [
    {
     "name": "stdout",
     "output_type": "stream",
     "text": [
      "yahska\n"
     ]
    }
   ],
   "source": [
    "# Your code here\n",
    "\n",
    "s = input('Enter a string')\n",
    "reverse_s = ''\n",
    "for i in range(len(s)-1,-1,-1):\n",
    "    reverse_s = reverse_s + s[i]\n",
    "\n",
    "print(reverse_s)\n"
   ]
  },
  {
   "cell_type": "markdown",
   "metadata": {},
   "source": [
    "**Question 19:** Write a Python program to check if a string is a palindrome."
   ]
  },
  {
   "cell_type": "code",
   "execution_count": 58,
   "metadata": {},
   "outputs": [
    {
     "name": "stdout",
     "output_type": "stream",
     "text": [
      "kayak is a palindrome seq\n"
     ]
    }
   ],
   "source": [
    "# Your code here\n",
    "s = input('Enter a string')\n",
    "\n",
    "def palindrome_s(s):\n",
    "    reverse_s = ''\n",
    "    for i in range(len(s)-1,-1,-1):\n",
    "        reverse_s = reverse_s + s[i]\n",
    "\n",
    "    if s == reverse_s:\n",
    "        print(s, 'is a palindrome seq')\n",
    "    else:\n",
    "        print(s, 'is not palindrome')\n",
    "\n",
    "palindrome_s(s)\n",
    "\n",
    "\n"
   ]
  },
  {
   "cell_type": "markdown",
   "metadata": {},
   "source": [
    "**Question 20:** Write a Python program to sort a list of numbers in ascending order."
   ]
  },
  {
   "cell_type": "code",
   "execution_count": 72,
   "metadata": {},
   "outputs": [
    {
     "name": "stdout",
     "output_type": "stream",
     "text": [
      "[2, 3, 4, 5, 6]\n"
     ]
    }
   ],
   "source": [
    "# Your code here\n",
    "\n",
    "l1 = [3,2,5,4,6]\n",
    "l1.sort()\n",
    "print(l1)\n"
   ]
  },
  {
   "cell_type": "code",
   "execution_count": 77,
   "metadata": {},
   "outputs": [
    {
     "name": "stdout",
     "output_type": "stream",
     "text": [
      "0\n"
     ]
    }
   ],
   "source": [
    "n1 = int(input('Enter a number'))\n",
    "n2 = int(input('Enter a number'))\n",
    "n = int(input('Enter a number for operation 1:add, 2:subtract, 3:multiply, 4:divide'))\n",
    "\n",
    "def add(n1,n2):\n",
    "    print(n1 + n2)\n",
    "def sub(n1,n2):\n",
    "    print(n1 - n2)\n",
    "def multiply(n1,n2):\n",
    "    print(n1 * n2)\n",
    "def divide(n1,n2):\n",
    "    print(n1 / n2)\n",
    "\n",
    "if n == 1:\n",
    "    add(n1,n2)\n",
    "elif n ==2:\n",
    "    sub(n1,n2)\n",
    "elif n == 3:\n",
    "    multiply(n1,n2)\n",
    "elif n == 4:\n",
    "    divide(n1,n2)\n",
    "else:\n",
    "    print('Enter a number for operation')"
   ]
  },
  {
   "cell_type": "code",
   "execution_count": null,
   "metadata": {},
   "outputs": [
    {
     "name": "stdout",
     "output_type": "stream",
     "text": [
      "6328\n"
     ]
    }
   ],
   "source": [
    "n = int(input('Enter a number'))\n",
    "\n",
    "sum = 0\n",
    "i = 0\n",
    "while i <= n:\n",
    "    sum = sum + i\n",
    "    i += 1\n",
    "print(sum)"
   ]
  }
 ],
 "metadata": {
  "kernelspec": {
   "display_name": "venv",
   "language": "python",
   "name": "python3"
  },
  "language_info": {
   "codemirror_mode": {
    "name": "ipython",
    "version": 3
   },
   "file_extension": ".py",
   "mimetype": "text/x-python",
   "name": "python",
   "nbconvert_exporter": "python",
   "pygments_lexer": "ipython3",
   "version": "3.10.0"
  }
 },
 "nbformat": 4,
 "nbformat_minor": 4
}
